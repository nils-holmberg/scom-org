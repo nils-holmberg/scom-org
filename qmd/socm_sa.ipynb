{
  "cells": [
    {
      "cell_type": "markdown",
      "metadata": {
        "id": "JzNhchGYwHci"
      },
      "source": [
        "# replicate analysis"
      ]
    },
    {
      "cell_type": "code",
      "metadata": {
        "id": "cgDzFmpswHcm"
      },
      "source": [
        "#| outputId: da291ddf-939f-4773-acbf-270c139296de\n",
        "# clone github repo\n",
        "usethis::create_from_github(\"https://github.com/nils-holmberg/scom-org.git\", destdir = \"/content/\", fork = FALSE)"
      ],
      "execution_count": null,
      "outputs": []
    },
    {
      "cell_type": "code",
      "metadata": {
        "id": "JjYlP93XwHcp"
      },
      "source": [
        "# go to repo dir\n",
        "setwd(\"/content/scom-org/\")\n",
        "list.files()"
      ],
      "execution_count": null,
      "outputs": []
    },
    {
      "cell_type": "code",
      "metadata": {
        "id": "u4SAGMJJwHcs"
      },
      "source": [
        "# delete repo dir, to start over\n",
        "unlink(\"/content/scom-org/\", recursive=TRUE)"
      ],
      "execution_count": null,
      "outputs": []
    },
    {
      "cell_type": "code",
      "metadata": {
        "id": "6Z0Fg4bDwHct"
      },
      "source": [
        "# unzip data file\n",
        "unzip(\"csv/fb-sa-210305.csv.zip\", exdir=\"csv\")"
      ],
      "execution_count": null,
      "outputs": []
    },
    {
      "cell_type": "code",
      "metadata": {
        "id": "EIT45IhywHcu"
      },
      "source": [
        "#| outputId: 190e8d37-003e-4504-ace2-25ed7e4c8f08\n",
        "# dependency\n",
        "install.packages(\"lme4\")"
      ],
      "execution_count": null,
      "outputs": []
    },
    {
      "cell_type": "code",
      "metadata": {
        "id": "Hs2THOdVwHcv"
      },
      "source": [
        "#| outputId: 1a1ffb76-8105-4b56-8c5c-0df01f0138ea\n",
        "#clear workspace\n",
        "rm(list=ls())\n",
        "#load functions\n",
        "source(\"src/emo-functions.R\")\n",
        "#\n",
        "#get records, with emojis (191119)\n",
        "dfp = posts_get(fn='csv/fb-sa-210305.csv')\n",
        "#"
      ],
      "execution_count": null,
      "outputs": []
    },
    {
      "cell_type": "code",
      "metadata": {
        "id": "fPf5wQ2AwHcw"
      },
      "source": [
        "#| outputId: 40dcf863-afa8-4b4c-cb87-f6ff3ced1cac\n",
        "# dependency\n",
        "install.packages(\"plyr\")"
      ],
      "execution_count": null,
      "outputs": []
    },
    {
      "cell_type": "code",
      "metadata": {
        "id": "aguIdlQ6wHcw"
      },
      "source": [
        "#| outputId: e0f09d5c-20a2-4ed1-93f5-1b71f4418c94\n",
        "#aggregate measures by organization\n",
        "colv = c(\"e_index\",\"sa_val\",\"sa_int\",\"sa_frq\",\"wc\",\"follow\")\n",
        "dfo = orgs_aggregate(dfp, colv)\n",
        "\n",
        "coli = data.frame(test=names(dfo),some=1:length(names(dfo))) %>% filter(!grepl(\"_se|frq|wc\",test)) %>% pull(some)\n",
        "knitr::kable(dfo %>% as_tibble() %>% select(all_of(coli) %>% head()), format=\"pipe\", digits=2, caption='aggregate', booktabs=TRUE)"
      ],
      "execution_count": null,
      "outputs": []
    },
    {
      "cell_type": "markdown",
      "metadata": {
        "id": "ySgsFv3qwHcy"
      },
      "source": [
        "# ingest new data"
      ]
    },
    {
      "cell_type": "code",
      "metadata": {
        "id": "ukVwOmnAwHcz"
      },
      "source": [
        "#| outputId: b551ae6e-28b2-4e1a-ba11-bcc4a9582585\n",
        "#aggregate measures by organization, add org type variable\n",
        "xls = readxl::read_excel(\"tmp/fb-org\\ med\\ typ\\ NW.xlsx\", sheet=1)\n",
        "xls = xls %>% select(\"org\",\"Typ\")\n",
        "xls = rename(xls, type=Typ)\n",
        "dto = left_join(tmp, xls, by=join_by(org))\n",
        "#knitr::kable(dto, format=\"pipe\", digits=2, caption='aggregate, org type', booktabs=TRUE)\n",
        "dto"
      ],
      "execution_count": null,
      "outputs": []
    }
  ],
  "metadata": {
    "kernelspec": {
      "name": "ir",
      "display_name": "R",
      "language": "R"
    },
    "colab": {
      "provenance": []
    }
  },
  "nbformat": 4,
  "nbformat_minor": 0
}