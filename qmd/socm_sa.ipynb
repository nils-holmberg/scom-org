{
  "cells": [
    {
      "cell_type": "markdown",
      "metadata": {},
      "source": [
        "# replicate analysis\n",
        "\n",
        "some explanations of code cell in markdown.."
      ]
    },
    {
      "cell_type": "code",
      "metadata": {},
      "source": [
        "# clone github repo\n",
        "usethis::create_from_github(\"https://github.com/nils-holmberg/scom-org.git\", destdir = \"/content/\", fork = FALSE)"
      ],
      "execution_count": null,
      "outputs": []
    },
    {
      "cell_type": "code",
      "metadata": {},
      "source": [
        "# go to repo dir\n",
        "setwd(\"/content/scom-org/\")\n",
        "list.files()"
      ],
      "execution_count": null,
      "outputs": []
    },
    {
      "cell_type": "code",
      "metadata": {},
      "source": [
        "# delete repo dir, to start over\n",
        "unlink(\"/content/scom-org/\", recursive=TRUE)"
      ],
      "execution_count": null,
      "outputs": []
    },
    {
      "cell_type": "code",
      "metadata": {},
      "source": [
        "# unzip data file\n",
        "unzip(\"csv/fb-sa-210305.csv.zip\", exdir=\"csv\")"
      ],
      "execution_count": null,
      "outputs": []
    },
    {
      "cell_type": "code",
      "metadata": {},
      "source": [
        "# dependency\n",
        "install.packages(\"lme4\")"
      ],
      "execution_count": null,
      "outputs": []
    },
    {
      "cell_type": "code",
      "metadata": {},
      "source": [
        "#clear workspace\n",
        "rm(list=ls())\n",
        "#load functions\n",
        "source(\"src/emo-functions.R\")\n",
        "#\n",
        "#get records, with emojis (191119)\n",
        "dfp = posts_get(fn='csv/fb-sa-210305.csv')\n",
        "#"
      ],
      "execution_count": null,
      "outputs": []
    },
    {
      "cell_type": "code",
      "metadata": {},
      "source": [
        "# dependency\n",
        "install.packages(\"plyr\")"
      ],
      "execution_count": null,
      "outputs": []
    },
    {
      "cell_type": "code",
      "metadata": {},
      "source": [
        "#aggregate measures by organization\n",
        "colv = c(\"e_index\",\"sa_val\",\"sa_int\",\"sa_frq\",\"wc\",\"follow\")\n",
        "dfo = orgs_aggregate(dfp, colv)\n",
        "\n",
        "coli = data.frame(test=names(dfo),some=1:length(names(dfo))) %>% filter(!grepl(\"_se|frq|wc\",test)) %>% pull(some)\n",
        "knitr::kable(dfo %>% as_tibble() %>% select(all_of(coli) %>% head()), format=\"pipe\", digits=2, caption='aggregate', booktabs=TRUE)"
      ],
      "execution_count": null,
      "outputs": []
    },
    {
      "cell_type": "markdown",
      "metadata": {},
      "source": [
        "# ingest new data"
      ]
    },
    {
      "cell_type": "code",
      "metadata": {},
      "source": [
        "#aggregate measures by organization, add org type variable\n",
        "xls = readxl::read_excel(\"tmp/fb-org\\ med\\ typ\\ NW.xlsx\", sheet=1)\n",
        "xls = xls %>% select(\"org\",\"Typ\")\n",
        "xls = rename(xls, type=Typ)\n",
        "dto = left_join(tmp, xls, by=join_by(org))\n",
        "#knitr::kable(dto, format=\"pipe\", digits=2, caption='aggregate, org type', booktabs=TRUE)\n",
        "dto"
      ],
      "execution_count": null,
      "outputs": []
    }
  ],
  "metadata": {
    "kernelspec": {
      "name": "ir",
      "display_name": "R",
      "language": "R"
    }
  },
  "nbformat": 4,
  "nbformat_minor": 4
}